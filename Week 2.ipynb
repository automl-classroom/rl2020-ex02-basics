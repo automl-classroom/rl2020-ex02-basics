{
 "cells": [
  {
   "cell_type": "code",
   "execution_count": 1,
   "metadata": {},
   "outputs": [],
   "source": [
    "import numpy as np\n",
    "import ipywidgets as widgets\n",
    "from IPython.display import Markdown"
   ]
  },
  {
   "cell_type": "code",
   "execution_count": 2,
   "metadata": {
    "code_folding": []
   },
   "outputs": [],
   "source": [
    "class MarsRoverEnv:\n",
    "    def __init__(self, num_states=5, starting_position=2, rewards=[1, 0, 0, 0, 10]):\n",
    "        self.num_states = num_states\n",
    "        self.starting_position = starting_position\n",
    "        self.position = starting_position\n",
    "        self.rewards = rewards\n",
    "        self.c_steps = 0\n",
    "    \n",
    "    def reset(self):\n",
    "        self.c_steps = 0\n",
    "        self.position = self.starting_position\n",
    "        return self.position\n",
    "    \n",
    "    def step(self, action):\n",
    "        done = False\n",
    "        self.c_steps += 1\n",
    "        if action == 0:\n",
    "            if self.position > 0:\n",
    "                self.position -= 1\n",
    "        elif action == 1:\n",
    "            if self.position < self.num_states-1:\n",
    "                self.position += 1\n",
    "        else:\n",
    "            print(\"Not a valid action\")\n",
    "            return\n",
    "        reward = self.rewards[self.position]\n",
    "        return self.position, reward, self.c_steps > 10"
   ]
  },
  {
   "cell_type": "code",
   "execution_count": 3,
   "metadata": {
    "code_folding": []
   },
   "outputs": [],
   "source": [
    "def policy_iteration_step(qs, pi, state, new_state, action, reward, gamma=0.9):\n",
    "    done = False\n",
    "    qs[state][action] = reward + gamma * (qs[new_state][0] + qs[new_state][1])\n",
    "    new_pi = [np.random.choice(np.where(qs[state] == qs[state].max())[0]) for state in np.arange(len(qs))]\n",
    "    if np.linalg.norm((np.array(pi) - np.array(new_pi)), ord=1) <= 0:\n",
    "        done = True\n",
    "    return qs, new_pi, done"
   ]
  },
  {
   "cell_type": "code",
   "execution_count": 4,
   "metadata": {},
   "outputs": [],
   "source": [
    "def value_iteration_step(v, state, new_state, action, reward, gamma=0.9):\n",
    "    done = False\n",
    "    new_v = np.copy(v)\n",
    "    new_v[state] = reward + gamma * v[new_state]\n",
    "    if np.linalg.norm((v - new_v), ord=1) <= 0:\n",
    "        done = True\n",
    "    return new_v, done"
   ]
  },
  {
   "cell_type": "code",
   "execution_count": 5,
   "metadata": {},
   "outputs": [],
   "source": [
    "# Change environment setup here\n",
    "current_position = 2\n",
    "transition_probabilities = np.ones((5,2))*0.5\n",
    "positions = [\"\", \"\", \"\", \"\", \"\"]\n",
    "positions[current_position] = \"You are here\""
   ]
  },
  {
   "cell_type": "code",
   "execution_count": 6,
   "metadata": {
    "code_folding": [
     0
    ]
   },
   "outputs": [],
   "source": [
    "direction = widgets.ToggleButtons(\n",
    "    options=['Left', 'Right'],\n",
    "    description='Direction:',\n",
    "    disabled=False,\n",
    "    button_style='', # 'success', 'info', 'warning', 'danger' or ''\n",
    "    tooltips=['Rover moving one step right', 'Rover moving one step left'],\n",
    ")"
   ]
  },
  {
   "cell_type": "code",
   "execution_count": 7,
   "metadata": {},
   "outputs": [],
   "source": [
    "#TODO: use the picture here?\n",
    "table = Markdown(\"\"\"\n",
    "# Which way should the rover move?\n",
    "| Good view | Nothing interesting | Nothing interesting | Nothing interesting | Very important science |\n",
    "|-----------|---------------------|:-------------------:|---------------------|------------------------|\n",
    "|{positions[0]}|{positions[1]}|{positions[2]}|{positions[3]}|{positions[4]}|\n",
    "\"\"\".format(positions=positions))"
   ]
  },
  {
   "cell_type": "code",
   "execution_count": 8,
   "metadata": {
    "code_folding": []
   },
   "outputs": [],
   "source": [
    "def adjust_position(current_position, direction, prob=(0.5,0.5)):\n",
    "    follow_policy = np.random.choice([0, 1], p=[1-prob[0], prob[1]])\n",
    "    if direction.value == \"Left\" and current_position > 0 and follow_policy:\n",
    "        current_position -= 1\n",
    "    elif direction.value == \"Left\" and current_position < 4:\n",
    "        current_position += 1\n",
    "    elif direction.value == \"Right\" and current_position < 4 and follow_policy:\n",
    "        current_position += 1\n",
    "    elif direction.value == \"Right\" and current_position > 0:\n",
    "        current_position -= 1\n",
    "    return current_position"
   ]
  },
  {
   "cell_type": "code",
   "execution_count": 9,
   "metadata": {},
   "outputs": [
    {
     "data": {
      "text/markdown": [
       "\n",
       "# Which way should the rover move?\n",
       "| Good view | Nothing interesting | Nothing interesting | Nothing interesting | Very important science |\n",
       "|-----------|---------------------|:-------------------:|---------------------|------------------------|\n",
       "|||You are here|||\n"
      ],
      "text/plain": [
       "<IPython.core.display.Markdown object>"
      ]
     },
     "metadata": {},
     "output_type": "display_data"
    }
   ],
   "source": [
    "positions = [\"\", \"\", \"\", \"\", \"\"]\n",
    "positions[current_position] = \"You are here\"\n",
    "display(table)"
   ]
  },
  {
   "cell_type": "code",
   "execution_count": 10,
   "metadata": {},
   "outputs": [
    {
     "data": {
      "text/markdown": [
       "## Select a direction"
      ],
      "text/plain": [
       "<IPython.core.display.Markdown object>"
      ]
     },
     "metadata": {},
     "output_type": "display_data"
    },
    {
     "data": {
      "application/vnd.jupyter.widget-view+json": {
       "model_id": "f5c3ea54a5a44aff9b39d3492ff3b3c8",
       "version_major": 2,
       "version_minor": 0
      },
      "text/plain": [
       "ToggleButtons(description='Direction:', options=('Left', 'Right'), tooltips=('Rover moving one step right', 'R…"
      ]
     },
     "metadata": {},
     "output_type": "display_data"
    },
    {
     "data": {
      "text/markdown": [
       "## The rover will follow your instructions with a probability of 50%"
      ],
      "text/plain": [
       "<IPython.core.display.Markdown object>"
      ]
     },
     "metadata": {},
     "output_type": "display_data"
    }
   ],
   "source": [
    "display(Markdown(\"\"\"## Select a direction\"\"\"))\n",
    "display(direction)\n",
    "display(Markdown(\"\"\"## The rover will follow your instructions with a probability of 50%\"\"\"))"
   ]
  },
  {
   "cell_type": "code",
   "execution_count": 11,
   "metadata": {
    "code_folding": []
   },
   "outputs": [
    {
     "data": {
      "text/markdown": [
       "\n",
       "# Which way should the rover move?\n",
       "| Good view | Nothing interesting | Nothing interesting | Nothing interesting | Very important science |\n",
       "|-----------|---------------------|:-------------------:|---------------------|------------------------|\n",
       "||||You are here||\n"
      ],
      "text/plain": [
       "<IPython.core.display.Markdown object>"
      ]
     },
     "metadata": {},
     "output_type": "display_data"
    }
   ],
   "source": [
    "current_position = adjust_position(current_position, direction, transition_probabilities[current_position])\n",
    "positions = [\"\", \"\", \"\", \"\", \"\"]\n",
    "positions[current_position] = \"You are here\"\n",
    "table = Markdown(\"\"\"\n",
    "# Which way should the rover move?\n",
    "| Good view | Nothing interesting | Nothing interesting | Nothing interesting | Very important science |\n",
    "|-----------|---------------------|:-------------------:|---------------------|------------------------|\n",
    "|{positions[0]}|{positions[1]}|{positions[2]}|{positions[3]}|{positions[4]}|\n",
    "\"\"\".format(positions=positions))\n",
    "display(table)"
   ]
  },
  {
   "cell_type": "markdown",
   "metadata": {},
   "source": [
    "# Interacting with the rover environment"
   ]
  },
  {
   "cell_type": "code",
   "execution_count": 12,
   "metadata": {},
   "outputs": [],
   "source": [
    "rover = MarsRoverEnv()\n",
    "state = rover.reset()\n",
    "current_position = rover.position"
   ]
  },
  {
   "cell_type": "code",
   "execution_count": 13,
   "metadata": {},
   "outputs": [
    {
     "data": {
      "text/markdown": [
       "\n",
       "## Which way should the rover move?\n",
       "|               | Good view | Nothing interesting | Nothing interesting | Nothing interesting | Very important science |\n",
       "|:-------------:|:---------:|:-------------------:|:-------------------:|:-------------------:|:----------------------:|\n",
       "|    Position   |||  You are here         |       |  |\n"
      ],
      "text/plain": [
       "<IPython.core.display.Markdown object>"
      ]
     },
     "metadata": {},
     "output_type": "display_data"
    }
   ],
   "source": [
    "positions = [\"\", \"\", \"\", \"\", \"\"]\n",
    "positions[current_position] = \"You are here\"\n",
    "table = Markdown(\"\"\"\n",
    "## Which way should the rover move?\n",
    "|               | Good view | Nothing interesting | Nothing interesting | Nothing interesting | Very important science |\n",
    "|:-------------:|:---------:|:-------------------:|:-------------------:|:-------------------:|:----------------------:|\n",
    "|    Position   |{positions[0]}|{positions[1]}|  {positions[2]}         |  {positions[3]}     |  {positions[4]}|\n",
    "\"\"\".format(positions=positions))\n",
    "display(table)"
   ]
  },
  {
   "cell_type": "code",
   "execution_count": 14,
   "metadata": {},
   "outputs": [
    {
     "data": {
      "application/vnd.jupyter.widget-view+json": {
       "model_id": "f5c3ea54a5a44aff9b39d3492ff3b3c8",
       "version_major": 2,
       "version_minor": 0
      },
      "text/plain": [
       "ToggleButtons(description='Direction:', options=('Left', 'Right'), tooltips=('Rover moving one step right', 'R…"
      ]
     },
     "metadata": {},
     "output_type": "display_data"
    }
   ],
   "source": [
    "display(direction)"
   ]
  },
  {
   "cell_type": "code",
   "execution_count": 15,
   "metadata": {},
   "outputs": [
    {
     "data": {
      "text/markdown": [
       "\n",
       "## Which way should the rover move?\n",
       "|               | Good view | Nothing interesting | Nothing interesting | Nothing interesting | Very important science |\n",
       "|:-------------:|:---------:|:-------------------:|:-------------------:|:-------------------:|:----------------------:|\n",
       "|    Position   ||    |       |  You are here     |  |   \n"
      ],
      "text/plain": [
       "<IPython.core.display.Markdown object>"
      ]
     },
     "metadata": {},
     "output_type": "display_data"
    },
    {
     "data": {
      "text/markdown": [
       "\n",
       "### State : 2\n",
       "### Action : 0\n",
       "### New State : 1\n",
       "### Reward:  0"
      ],
      "text/plain": [
       "<IPython.core.display.Markdown object>"
      ]
     },
     "metadata": {},
     "output_type": "display_data"
    }
   ],
   "source": [
    "current_position = rover.position\n",
    "if direction.value == \"Left\":\n",
    "    action = 0\n",
    "else:\n",
    "    action = 1\n",
    "    \n",
    "new_state, reward, done = rover.step(action)\n",
    "current_position = adjust_position(current_position, direction, transition_probabilities[current_position])\n",
    "positions = [\"\", \"\", \"\", \"\", \"\"]\n",
    "positions[current_position] = \"You are here\"\n",
    "table = Markdown(\"\"\"\n",
    "## Which way should the rover move?\n",
    "|               | Good view | Nothing interesting | Nothing interesting | Nothing interesting | Very important science |\n",
    "|:-------------:|:---------:|:-------------------:|:-------------------:|:-------------------:|:----------------------:|\n",
    "|    Position   |{positions[0]}|{positions[1]}    |  {positions[2]}     |  {positions[3]}     |  {positions[4]}|   \n",
    "\"\"\".format(positions=positions))\n",
    "display(table)\n",
    "display(Markdown(\"\"\"\n",
    "### State : {state}\n",
    "### Action : {action}\n",
    "### New State : {new_state}\n",
    "### Reward:  {reward}\"\"\".format(action=action, reward=reward, state=state, new_state=new_state)))\n",
    "state = new_state"
   ]
  },
  {
   "cell_type": "markdown",
   "metadata": {},
   "source": [
    "# Policy Iteration"
   ]
  },
  {
   "cell_type": "code",
   "execution_count": 16,
   "metadata": {},
   "outputs": [],
   "source": [
    "qs = np.zeros((5, 2))\n",
    "pi = np.random.randint(0, 2, size=5)\n",
    "rs = [1, -1, -1, -1, 10]\n",
    "rover = MarsRoverEnv(rewards=rs)\n",
    "state = rover.reset()\n",
    "current_position = rover.position\n",
    "transition_probabilities = np.ones((5,2))*0.5"
   ]
  },
  {
   "cell_type": "code",
   "execution_count": 17,
   "metadata": {},
   "outputs": [
    {
     "data": {
      "text/markdown": [
       "\n",
       "### Current policy $\\pi$ is to play:\n",
       "### 0 in state 0\n",
       "### 1 in state 1\n",
       "### 0 in state 2\n",
       "### 0 in state 3\n",
       "### 0 in state 4"
      ],
      "text/plain": [
       "<IPython.core.display.Markdown object>"
      ]
     },
     "execution_count": 17,
     "metadata": {},
     "output_type": "execute_result"
    }
   ],
   "source": [
    "Markdown(\"\"\"\n",
    "### Current policy $\\pi$ is to play:\n",
    "### {pi[0]} in state 0\n",
    "### {pi[1]} in state 1\n",
    "### {pi[2]} in state 2\n",
    "### {pi[3]} in state 3\n",
    "### {pi[4]} in state 4\"\"\".format(pi=pi))"
   ]
  },
  {
   "cell_type": "code",
   "execution_count": 18,
   "metadata": {},
   "outputs": [
    {
     "data": {
      "text/markdown": [
       "\n",
       "### The rover is in state 2, so our policy dictates action 0"
      ],
      "text/plain": [
       "<IPython.core.display.Markdown object>"
      ]
     },
     "execution_count": 18,
     "metadata": {},
     "output_type": "execute_result"
    }
   ],
   "source": [
    "Markdown(\"\"\"\n",
    "### The rover is in state {state}, so our policy dictates action {a}\"\"\".format(state=state, a=pi[state]))"
   ]
  },
  {
   "cell_type": "code",
   "execution_count": 19,
   "metadata": {},
   "outputs": [
    {
     "data": {
      "text/markdown": [
       "\n",
       "## Which way should the rover move?\n",
       "|               | Good view | Nothing interesting | Nothing interesting | Nothing interesting | Very important science |\n",
       "|:-------------:|:---------:|:-------------------:|:-------------------:|:-------------------:|:----------------------:|\n",
       "|    Position   ||You are here    |       |       |  |   \n",
       "| Q(s, a=0)  |   0.0 |      0.0     |     0.0      |     0.0      | 0.0|\n",
       "| Q(s, a=1)  |   0.0 |      0.0     |     0.0      |     0.0      | 0.0|\n"
      ],
      "text/plain": [
       "<IPython.core.display.Markdown object>"
      ]
     },
     "metadata": {},
     "output_type": "display_data"
    },
    {
     "data": {
      "text/markdown": [
       "\n",
       "### State : 2\n",
       "### Action : 0\n",
       "### New State : 1\n",
       "### Reward:  -1"
      ],
      "text/plain": [
       "<IPython.core.display.Markdown object>"
      ]
     },
     "metadata": {},
     "output_type": "display_data"
    }
   ],
   "source": [
    "action = pi[state]\n",
    "follow_policy = np.random.choice([0, 1], p=[1-transition_probabilities[state][action], transition_probabilities[state][action]])\n",
    "if not follow_policy:\n",
    "    action = 1 - action\n",
    "new_state, reward, done = rover.step(action)\n",
    "if action == 0:\n",
    "    current_position = max(0, current_position-1)\n",
    "else:\n",
    "    current_position = min(4, current_position+1)\n",
    "positions = [\"\", \"\", \"\", \"\", \"\"]\n",
    "positions[current_position] = \"You are here\"\n",
    "table = Markdown(\"\"\"\n",
    "## Which way should the rover move?\n",
    "|               | Good view | Nothing interesting | Nothing interesting | Nothing interesting | Very important science |\n",
    "|:-------------:|:---------:|:-------------------:|:-------------------:|:-------------------:|:----------------------:|\n",
    "|    Position   |{positions[0]}|{positions[1]}    |  {positions[2]}     |  {positions[3]}     |  {positions[4]}|   \n",
    "| Q(s, a=0)  |   {qs[0][0]} |      {qs[1][0]}     |     {qs[2][0]}      |     {qs[3][0]}      | {qs[4][0]}|\n",
    "| Q(s, a=1)  |   {qs[0][1]} |      {qs[1][1]}     |     {qs[2][1]}      |     {qs[3][1]}      | {qs[4][1]}|\n",
    "\"\"\".format(positions=positions, qs=qs))\n",
    "display(table)\n",
    "display(Markdown(\"\"\"\n",
    "### State : {state}\n",
    "### Action : {action}\n",
    "### New State : {new_state}\n",
    "### Reward:  {reward}\"\"\".format(action=action, reward=reward, state=state, new_state=new_state)))"
   ]
  },
  {
   "cell_type": "code",
   "execution_count": 20,
   "metadata": {},
   "outputs": [
    {
     "data": {
      "text/markdown": [
       "\n",
       "## Updated values\n",
       "|               | Good view | Nothing interesting | Nothing interesting | Nothing interesting | Very important science |\n",
       "|:-------------:|:---------:|:-------------------:|:-------------------:|:-------------------:|:----------------------:|\n",
       "|    Position   ||You are here    |       |       |  |   \n",
       "| Q(s, a=0)  |   0.0 |      0.0     |     -1.0      |     0.0      | 0.0|\n",
       "| Q(s, a=1)  |   0.0 |      0.0     |     0.0      |     0.0      | 0.0|\n"
      ],
      "text/plain": [
       "<IPython.core.display.Markdown object>"
      ]
     },
     "metadata": {},
     "output_type": "display_data"
    }
   ],
   "source": [
    "qs, pi, done = policy_iteration_step(qs, pi, state, new_state, action, reward)\n",
    "state = new_state\n",
    "table = Markdown(\"\"\"\n",
    "## Updated values\n",
    "|               | Good view | Nothing interesting | Nothing interesting | Nothing interesting | Very important science |\n",
    "|:-------------:|:---------:|:-------------------:|:-------------------:|:-------------------:|:----------------------:|\n",
    "|    Position   |{positions[0]}|{positions[1]}    |  {positions[2]}     |  {positions[3]}     |  {positions[4]}|   \n",
    "| Q(s, a=0)  |   {qs[0][0]} |      {qs[1][0]}     |     {qs[2][0]}      |     {qs[3][0]}      | {qs[4][0]}|\n",
    "| Q(s, a=1)  |   {qs[0][1]} |      {qs[1][1]}     |     {qs[2][1]}      |     {qs[3][1]}      | {qs[4][1]}|\n",
    "\"\"\".format(positions=positions, qs=qs))\n",
    "display(table)"
   ]
  },
  {
   "cell_type": "code",
   "execution_count": 21,
   "metadata": {},
   "outputs": [
    {
     "data": {
      "text/markdown": [
       "\n",
       "### Policy updates done? False"
      ],
      "text/plain": [
       "<IPython.core.display.Markdown object>"
      ]
     },
     "execution_count": 21,
     "metadata": {},
     "output_type": "execute_result"
    }
   ],
   "source": [
    "Markdown(\"\"\"\n",
    "### Policy updates done? {done}\"\"\".format(done=done))"
   ]
  },
  {
   "cell_type": "markdown",
   "metadata": {},
   "source": [
    "# Value iteration"
   ]
  },
  {
   "cell_type": "code",
   "execution_count": 22,
   "metadata": {},
   "outputs": [],
   "source": [
    "v = np.zeros(5)\n",
    "rs = [1, -1, -1, -1, 10]\n",
    "rover = MarsRoverEnv(rewards=rs)\n",
    "state = rover.reset()\n",
    "current_position = rover.position\n",
    "transition_probabilities = np.ones((5,2))*0.5"
   ]
  },
  {
   "cell_type": "code",
   "execution_count": 23,
   "metadata": {},
   "outputs": [
    {
     "data": {
      "text/markdown": [
       "\n",
       "### Compute Action for current state 2:\n",
       "### a with max (R(2,a) + $\\gamma$ $\\sum$ V(s'))\n",
       "### for all s' that can follow 2, which are 1 and 3.\n",
       "### a=0: R(2, 0) + 0.9 * 0.0 = -1.0\n",
       "### a=1: R(2, 1) + 0.9 * 0.0 = -1.0\n",
       "### So we choose 1."
      ],
      "text/plain": [
       "<IPython.core.display.Markdown object>"
      ]
     },
     "execution_count": 23,
     "metadata": {},
     "output_type": "execute_result"
    }
   ],
   "source": [
    "r1=(rs[state-1]+0.9*v[state-1])\n",
    "r2=(rs[state+1]+0.9*v[state+1])\n",
    "a = np.argmax([r1, r2])\n",
    "if r1 == r2:\n",
    "    a = np.random.randint(2)\n",
    "Markdown(\"\"\"\n",
    "### Compute Action for current state {state}:\n",
    "### a with max (R(2,a) + $\\gamma$ $\\sum$ V(s'))\n",
    "### for all s' that can follow {state}, which are {follow1} and {follow2}.\n",
    "### a=0: R(2, 0) + 0.9 * {v1} = {r1}\n",
    "### a=1: R(2, 1) + 0.9 * {v2} = {r2}\n",
    "### So we choose {a}.\"\"\".format(state=state, v1=v[state-1], v2=v[state+1], follow1=state-1, follow2=state+1, r1=r1, r2=r2, a=a))"
   ]
  },
  {
   "cell_type": "code",
   "execution_count": 24,
   "metadata": {},
   "outputs": [
    {
     "data": {
      "text/markdown": [
       "\n",
       "## Which way should the rover move?\n",
       "|               | Good view | Nothing interesting | Nothing interesting | Nothing interesting | Very important science |\n",
       "|:-------------:|:---------:|:-------------------:|:-------------------:|:-------------------:|:----------------------:|\n",
       "|    Position   ||You are here    |       |       |  |   \n",
       "| State values  |   0.0  |      0.0         |         0.0      |     0.0          | 0.0|\n"
      ],
      "text/plain": [
       "<IPython.core.display.Markdown object>"
      ]
     },
     "metadata": {},
     "output_type": "display_data"
    },
    {
     "data": {
      "text/markdown": [
       "\n",
       "### State : 2\n",
       "### Action : 0\n",
       "### New State : 1\n",
       "### Reward:  -1"
      ],
      "text/plain": [
       "<IPython.core.display.Markdown object>"
      ]
     },
     "metadata": {},
     "output_type": "display_data"
    }
   ],
   "source": [
    "action = a\n",
    "follow_policy = np.random.choice([0, 1], p=[1-transition_probabilities[state][action], transition_probabilities[state][action]])\n",
    "if not follow_policy:\n",
    "    action = 1 - action\n",
    "new_state, reward, done = rover.step(action)\n",
    "if action == 0:\n",
    "    current_position = max(0, current_position-1)\n",
    "else:\n",
    "    current_position = min(4, current_position+1)\n",
    "positions = [\"\", \"\", \"\", \"\", \"\"]\n",
    "positions[current_position] = \"You are here\"\n",
    "table = Markdown(\"\"\"\n",
    "## Which way should the rover move?\n",
    "|               | Good view | Nothing interesting | Nothing interesting | Nothing interesting | Very important science |\n",
    "|:-------------:|:---------:|:-------------------:|:-------------------:|:-------------------:|:----------------------:|\n",
    "|    Position   |{positions[0]}|{positions[1]}    |  {positions[2]}     |  {positions[3]}     |  {positions[4]}|   \n",
    "| State values  |   {v[0]}  |      {v[1]}         |         {v[2]}      |     {v[3]}          | {v[4]}|\n",
    "\"\"\".format(positions=positions, v=v))\n",
    "display(table)\n",
    "display(Markdown(\"\"\"\n",
    "### State : {state}\n",
    "### Action : {action}\n",
    "### New State : {new_state}\n",
    "### Reward:  {reward}\"\"\".format(action=action, reward=reward, state=state, new_state=new_state)))\n",
    "state = new_state"
   ]
  },
  {
   "cell_type": "code",
   "execution_count": 25,
   "metadata": {},
   "outputs": [
    {
     "data": {
      "text/markdown": [
       "\n",
       "## Updated values\n",
       "|               | Good view | Nothing interesting | Nothing interesting | Nothing interesting | Very important science |\n",
       "|:-------------:|:---------:|:-------------------:|:-------------------:|:-------------------:|:----------------------:|\n",
       "|    Position   ||You are here    |       |       |  |   \n",
       "| State values  |   0.0  |      -1.0         |         0.0      |     0.0          | 0.0|\n"
      ],
      "text/plain": [
       "<IPython.core.display.Markdown object>"
      ]
     },
     "metadata": {},
     "output_type": "display_data"
    }
   ],
   "source": [
    "old_v = np.copy(v)\n",
    "v, done = value_iteration_step(v, state, new_state, action, reward)\n",
    "table = Markdown(\"\"\"\n",
    "## Updated values\n",
    "|               | Good view | Nothing interesting | Nothing interesting | Nothing interesting | Very important science |\n",
    "|:-------------:|:---------:|:-------------------:|:-------------------:|:-------------------:|:----------------------:|\n",
    "|    Position   |{positions[0]}|{positions[1]}    |  {positions[2]}     |  {positions[3]}     |  {positions[4]}|   \n",
    "| State values  |   {v[0]}  |      {v[1]}         |         {v[2]}      |     {v[3]}          | {v[4]}|\n",
    "\"\"\".format(positions=positions, v=v))\n",
    "display(table)"
   ]
  },
  {
   "cell_type": "code",
   "execution_count": 26,
   "metadata": {},
   "outputs": [
    {
     "data": {
      "text/markdown": [
       "\n",
       "### Value updates done? False"
      ],
      "text/plain": [
       "<IPython.core.display.Markdown object>"
      ]
     },
     "execution_count": 26,
     "metadata": {},
     "output_type": "execute_result"
    }
   ],
   "source": [
    "Markdown(\"\"\"\n",
    "### Value updates done? {done}\"\"\".format(done=done))"
   ]
  },
  {
   "cell_type": "code",
   "execution_count": null,
   "metadata": {},
   "outputs": [],
   "source": []
  },
  {
   "cell_type": "code",
   "execution_count": null,
   "metadata": {},
   "outputs": [],
   "source": []
  }
 ],
 "metadata": {
  "kernelspec": {
   "display_name": "Python 3",
   "language": "python",
   "name": "python3"
  },
  "language_info": {
   "codemirror_mode": {
    "name": "ipython",
    "version": 3
   },
   "file_extension": ".py",
   "mimetype": "text/x-python",
   "name": "python",
   "nbconvert_exporter": "python",
   "pygments_lexer": "ipython3",
   "version": "3.7.4"
  }
 },
 "nbformat": 4,
 "nbformat_minor": 4
}
